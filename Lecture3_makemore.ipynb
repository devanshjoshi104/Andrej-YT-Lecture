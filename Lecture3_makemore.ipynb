{
  "nbformat": 4,
  "nbformat_minor": 0,
  "metadata": {
    "colab": {
      "provenance": [],
      "mount_file_id": "1LuHblb9ygAhNBsEd91-ElRBBGVAbck5o",
      "authorship_tag": "ABX9TyPPYdI/u1uARQ5r21g01hrM",
      "include_colab_link": true
    },
    "kernelspec": {
      "name": "python3",
      "display_name": "Python 3"
    },
    "language_info": {
      "name": "python"
    }
  },
  "cells": [
    {
      "cell_type": "markdown",
      "metadata": {
        "id": "view-in-github",
        "colab_type": "text"
      },
      "source": [
        "<a href=\"https://colab.research.google.com/github/devanshjoshi104/Andrej-YT-Lecture/blob/main/Lecture3_makemore.ipynb\" target=\"_parent\"><img src=\"https://colab.research.google.com/assets/colab-badge.svg\" alt=\"Open In Colab\"/></a>"
      ]
    },
    {
      "cell_type": "code",
      "source": [
        "import torch\n",
        "import torch.nn.functional as F\n",
        "import matplotlib.pyplot as plt # for making figures\n",
        "%matplotlib inline\n",
        "import random"
      ],
      "metadata": {
        "id": "C13CGGNBrUZ6"
      },
      "execution_count": 58,
      "outputs": []
    },
    {
      "cell_type": "code",
      "execution_count": 2,
      "metadata": {
        "id": "_xIslsUTaOzR",
        "colab": {
          "base_uri": "https://localhost:8080/"
        },
        "outputId": "96641654-3027-406b-ced6-b641b824183a"
      },
      "outputs": [
        {
          "output_type": "stream",
          "name": "stdout",
          "text": [
            "--2024-12-30 08:19:39--  https://raw.githubusercontent.com/karpathy/makemore/master/names.txt\n",
            "Resolving raw.githubusercontent.com (raw.githubusercontent.com)... 185.199.108.133, 185.199.109.133, 185.199.110.133, ...\n",
            "Connecting to raw.githubusercontent.com (raw.githubusercontent.com)|185.199.108.133|:443... connected.\n",
            "HTTP request sent, awaiting response... 200 OK\n",
            "Length: 228145 (223K) [text/plain]\n",
            "Saving to: ‘names.txt’\n",
            "\n",
            "\rnames.txt             0%[                    ]       0  --.-KB/s               \rnames.txt           100%[===================>] 222.80K  --.-KB/s    in 0.04s   \n",
            "\n",
            "2024-12-30 08:19:39 (6.19 MB/s) - ‘names.txt’ saved [228145/228145]\n",
            "\n"
          ]
        }
      ],
      "source": [
        "# download the names.txt file from github\n",
        "!wget https://raw.githubusercontent.com/karpathy/makemore/master/names.txt"
      ]
    },
    {
      "cell_type": "code",
      "source": [
        "words = open('names.txt', 'r').read().splitlines()\n",
        "words[:8]"
      ],
      "metadata": {
        "colab": {
          "base_uri": "https://localhost:8080/"
        },
        "id": "ip2v_8kYqA_R",
        "outputId": "93bbce05-4e0c-4c7a-c7a8-945125b90dae"
      },
      "execution_count": 3,
      "outputs": [
        {
          "output_type": "execute_result",
          "data": {
            "text/plain": [
              "['emma', 'olivia', 'ava', 'isabella', 'sophia', 'charlotte', 'mia', 'amelia']"
            ]
          },
          "metadata": {},
          "execution_count": 3
        }
      ]
    },
    {
      "cell_type": "code",
      "source": [
        "chars = sorted(list(set(''.join(words))))\n",
        "stoi = {s:i+1 for i,s in enumerate(chars)}\n",
        "stoi['.'] = 0\n",
        "itos = {i:s for s,i in stoi.items()}\n",
        "print(itos)"
      ],
      "metadata": {
        "id": "REcPL7cHqIDn",
        "colab": {
          "base_uri": "https://localhost:8080/"
        },
        "outputId": "e7cb79ed-dc75-4594-e4c1-cb937190c3be"
      },
      "execution_count": 4,
      "outputs": [
        {
          "output_type": "stream",
          "name": "stdout",
          "text": [
            "{1: 'a', 2: 'b', 3: 'c', 4: 'd', 5: 'e', 6: 'f', 7: 'g', 8: 'h', 9: 'i', 10: 'j', 11: 'k', 12: 'l', 13: 'm', 14: 'n', 15: 'o', 16: 'p', 17: 'q', 18: 'r', 19: 's', 20: 't', 21: 'u', 22: 'v', 23: 'w', 24: 'x', 25: 'y', 26: 'z', 0: '.'}\n"
          ]
        }
      ]
    },
    {
      "cell_type": "code",
      "source": [
        "# params\n",
        "sample_data_size = len(words)\n",
        "# sample_data_size = 5\n",
        "embedding_dim_size = 10\n",
        "unique_objects_count = 27\n",
        "block_size = 3"
      ],
      "metadata": {
        "id": "Tg8eQCV3wlpQ"
      },
      "execution_count": 86,
      "outputs": []
    },
    {
      "cell_type": "code",
      "source": [
        "def build_dataset(words):\n",
        "  X, Y = [], []\n",
        "\n",
        "\n",
        "  for w in words[:sample_data_size]:\n",
        "      context = [0] * block_size\n",
        "      for ch in w + '.':\n",
        "          ix = stoi[ch]\n",
        "          X.append(context)\n",
        "          Y.append(ix)\n",
        "          # print(''.join(itos[i] for i in context), '--->', itos[ix])\n",
        "          context = context[1:] + [ix]\n",
        "  X = torch.tensor(X)\n",
        "  Y = torch.tensor(Y)\n",
        "  return X,Y\n",
        ""
      ],
      "metadata": {
        "id": "T7vct_1PrXkI"
      },
      "execution_count": 62,
      "outputs": []
    },
    {
      "cell_type": "code",
      "source": [
        "random.seed(42)\n",
        "random.shuffle(words)\n",
        "n1 = int(0.8*len(words))\n",
        "n2 = int(0.9*len(words))\n",
        "X,Y = build_dataset(words[:n1])\n",
        "Xval,Yval = build_dataset(words[n1:n2])\n",
        "Xtest,Ytest = build_dataset(words[n2:])\n"
      ],
      "metadata": {
        "id": "SWFGyEqbtFBs"
      },
      "execution_count": 59,
      "outputs": []
    },
    {
      "cell_type": "code",
      "source": [
        "C = torch.randn((unique_objects_count, embedding_dim_size))"
      ],
      "metadata": {
        "id": "5BVphpmetzeM"
      },
      "execution_count": 93,
      "outputs": []
    },
    {
      "cell_type": "code",
      "source": [
        "C[5]\n",
        "# this is equal to if we create one hot embedding of 5 and do one hot @ C"
      ],
      "metadata": {
        "colab": {
          "base_uri": "https://localhost:8080/"
        },
        "id": "ZK7e-DibuEqw",
        "outputId": "f88b61d8-74cd-4cb2-d894-0f653db0714c"
      },
      "execution_count": 7,
      "outputs": [
        {
          "output_type": "execute_result",
          "data": {
            "text/plain": [
              "tensor([-1.9790, -1.3174])"
            ]
          },
          "metadata": {},
          "execution_count": 7
        }
      ]
    },
    {
      "cell_type": "code",
      "source": [
        "emb = C[X]\n",
        "emb.shape"
      ],
      "metadata": {
        "colab": {
          "base_uri": "https://localhost:8080/"
        },
        "id": "aZ2quLw1voYP",
        "outputId": "24b94778-9744-4d64-d085-7d1e5645c689"
      },
      "execution_count": 91,
      "outputs": [
        {
          "output_type": "execute_result",
          "data": {
            "text/plain": [
              "torch.Size([182625, 3, 10])"
            ]
          },
          "metadata": {},
          "execution_count": 91
        }
      ]
    },
    {
      "cell_type": "code",
      "source": [
        "#  Neural Net\n",
        "#  block_size * embedding_dim_size, if will be passing 3 words and 2 is dimension in which word is represented, then neural input will be 6\n",
        "neural_net_nodes = 300\n",
        "g = torch.Generator().manual_seed(2147483647)\n",
        "W1 = torch.randn((block_size * embedding_dim_size, neural_net_nodes), generator=g, requires_grad = True)\n",
        "b1 = torch.randn(neural_net_nodes, generator=g, requires_grad = True)"
      ],
      "metadata": {
        "id": "hDysk5WRv6vT"
      },
      "execution_count": 9,
      "outputs": []
    },
    {
      "cell_type": "code",
      "source": [],
      "metadata": {
        "id": "Jvol7Aqf2mcN"
      },
      "execution_count": 9,
      "outputs": []
    },
    {
      "cell_type": "markdown",
      "source": [
        "we need to do emb @ W\n",
        "but size of emb is 3*2\n",
        "and of W is 6*100\n",
        "so we need to concatenate![Screenshot 2024-12-30 at 12.47.40 AM.png](data:image/png;base64,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) to match shape"
      ],
      "metadata": {
        "id": "0dj7wKHmxWYw"
      }
    },
    {
      "cell_type": "code",
      "source": [
        "# torch.concat(torch.unbind(emb, 1), 1)"
      ],
      "metadata": {
        "id": "yKvMmgTAxRE0"
      },
      "execution_count": 10,
      "outputs": []
    },
    {
      "cell_type": "code",
      "source": [
        "# can use view as that is what we wants to achiev\n",
        "# emb.view(len(X), block_size * embedding_dim_size) == torch.concat(torch.unbind(emb, 1), 1)"
      ],
      "metadata": {
        "id": "387F6CiTxUeX"
      },
      "execution_count": 11,
      "outputs": []
    },
    {
      "cell_type": "code",
      "source": [
        "# forward pass\n",
        "h = emb.view(-1, block_size * embedding_dim_size) @ W1 + b1\n",
        "h.shape"
      ],
      "metadata": {
        "colab": {
          "base_uri": "https://localhost:8080/"
        },
        "id": "qwbM2lSH0Ewf",
        "outputId": "4e28a9d8-1f99-4a24-8499-2f8a395c53fa"
      },
      "execution_count": 12,
      "outputs": [
        {
          "output_type": "execute_result",
          "data": {
            "text/plain": [
              "torch.Size([228146, 100])"
            ]
          },
          "metadata": {},
          "execution_count": 12
        }
      ]
    },
    {
      "cell_type": "code",
      "source": [
        "# second layer\n",
        "W2 = torch.randn((neural_net_nodes, unique_objects_count), generator=g, requires_grad = True)\n",
        "b2 = torch.randn(unique_objects_count, generator=g, requires_grad = True)"
      ],
      "metadata": {
        "id": "TbeCibQx0oRH"
      },
      "execution_count": 13,
      "outputs": []
    },
    {
      "cell_type": "code",
      "source": [
        "# forward pass\n",
        "logits = h @ W2 + b2\n",
        "count = logits.exp()\n",
        "prob = count/ count.sum(1, keepdims=True)\n",
        "prob.shape"
      ],
      "metadata": {
        "colab": {
          "base_uri": "https://localhost:8080/"
        },
        "id": "HoVYEPN804Rg",
        "outputId": "fc191082-8eaf-40cd-d832-0f0a9125b526"
      },
      "execution_count": 14,
      "outputs": [
        {
          "output_type": "execute_result",
          "data": {
            "text/plain": [
              "torch.Size([228146, 27])"
            ]
          },
          "metadata": {},
          "execution_count": 14
        }
      ]
    },
    {
      "cell_type": "code",
      "source": [
        "loss = -prob[torch.arange(len(Y)), Y].log().mean()\n",
        "loss"
      ],
      "metadata": {
        "colab": {
          "base_uri": "https://localhost:8080/"
        },
        "id": "AxsXWFj71764",
        "outputId": "23f3b255-8f2e-4555-f465-adeca09f377f"
      },
      "execution_count": 15,
      "outputs": [
        {
          "output_type": "execute_result",
          "data": {
            "text/plain": [
              "tensor(nan, grad_fn=<NegBackward0>)"
            ]
          },
          "metadata": {},
          "execution_count": 15
        }
      ]
    },
    {
      "cell_type": "markdown",
      "source": [
        "Refactored Code\n"
      ],
      "metadata": {
        "id": "roapN0tc3A3s"
      }
    },
    {
      "cell_type": "code",
      "source": [
        "neural_net_nodes = 300\n",
        "g = torch.Generator().manual_seed(2147483647)\n",
        "W1 = torch.randn((block_size * embedding_dim_size, neural_net_nodes), generator=g, requires_grad = True)\n",
        "b1 = torch.randn(neural_net_nodes, generator=g, requires_grad = True)\n",
        "W2 = torch.randn((neural_net_nodes, unique_objects_count), generator=g, requires_grad = True)\n",
        "b2 = torch.randn(unique_objects_count, generator=g, requires_grad = True)\n",
        "parameters = [C, W1, b1, W2, b2]\n",
        "sum(p.nelement() for p in parameters)"
      ],
      "metadata": {
        "colab": {
          "base_uri": "https://localhost:8080/"
        },
        "id": "VKzfgLhR3DXs",
        "outputId": "e0ff7bed-02ef-47ad-c7a8-dbf63ed5b1ba"
      },
      "execution_count": 94,
      "outputs": [
        {
          "output_type": "execute_result",
          "data": {
            "text/plain": [
              "17697"
            ]
          },
          "metadata": {},
          "execution_count": 94
        }
      ]
    },
    {
      "cell_type": "code",
      "source": [
        "for p in parameters:\n",
        "  p.requires_grad = True"
      ],
      "metadata": {
        "id": "1A9XfieW6HXS"
      },
      "execution_count": 95,
      "outputs": []
    },
    {
      "cell_type": "code",
      "source": [
        "lre = torch.linspace(-3, 0, 1000)\n",
        "lrs = 10**lre"
      ],
      "metadata": {
        "id": "Y33_Y2tGq1Nz"
      },
      "execution_count": 96,
      "outputs": []
    },
    {
      "cell_type": "code",
      "source": [
        "lr_used = []\n",
        "lr_loss = []\n",
        "stepi = []\n",
        "for k in range(30000):\n",
        "  # batching\n",
        "  batch_size = 32\n",
        "  ix = torch.randint(0, X.shape[0], (batch_size,))\n",
        "  # forward pass\n",
        "  emb = C[X[ix]]\n",
        "  h = torch.tanh(emb.view(-1, block_size * embedding_dim_size) @ W1 + b1)\n",
        "  logits = h @ W2 + b2\n",
        "  # count = logits.exp()\n",
        "  # prob = count/ count.sum(1, keepdims=True)\n",
        "  # loss = -prob[torch.arange(len(Y)), Y].log().mean()\n",
        "  loss = F.cross_entropy(logits, Y[ix])\n",
        "\n",
        "  # backward pass\n",
        "  for p in parameters:\n",
        "    p.grad = None\n",
        "  loss.backward()\n",
        "\n",
        "  # lr = lrs[k]\n",
        "  lr = 0.01\n",
        "  # update\n",
        "  for p in parameters:\n",
        "    p.data += -lr * p.grad\n",
        "  # print(k, loss.item())\n",
        "\n",
        "  # track stats\n",
        "  # lr_used.append(lr)\n",
        "  lr_loss.append(loss.item())\n",
        "  stepi.append(k)\n",
        "print(loss.item())"
      ],
      "metadata": {
        "colab": {
          "base_uri": "https://localhost:8080/"
        },
        "id": "CYxnHi5A3kiS",
        "outputId": "f0cec1e8-e28c-451d-9859-c231a98c36e0"
      },
      "execution_count": 104,
      "outputs": [
        {
          "output_type": "stream",
          "name": "stdout",
          "text": [
            "2.0632669925689697\n"
          ]
        }
      ]
    },
    {
      "cell_type": "code",
      "source": [],
      "metadata": {
        "id": "8c3r3msXvZkz"
      },
      "execution_count": 77,
      "outputs": []
    },
    {
      "cell_type": "code",
      "source": [
        "# plt.plot(lr_used, lr_loss)\n",
        "# apply elbow method in graph"
      ],
      "metadata": {
        "id": "LEw2tDMHrYpW"
      },
      "execution_count": null,
      "outputs": []
    },
    {
      "cell_type": "code",
      "source": [
        "emb = C[X]\n",
        "h = torch.tanh(emb.view(-1, block_size * embedding_dim_size) @ W1 + b1)\n",
        "logits = h @ W2 + b2\n",
        "loss = F.cross_entropy(logits, Y)\n",
        "print(loss)"
      ],
      "metadata": {
        "colab": {
          "base_uri": "https://localhost:8080/"
        },
        "id": "kKlYIp00x-w2",
        "outputId": "543277cf-fcbd-46ef-8ebf-9abf9e617c86"
      },
      "execution_count": 107,
      "outputs": [
        {
          "output_type": "stream",
          "name": "stdout",
          "text": [
            "tensor(2.1694, grad_fn=<NllLossBackward0>)\n"
          ]
        }
      ]
    },
    {
      "cell_type": "code",
      "source": [
        "emb = C[Xval]\n",
        "h = torch.tanh(emb.view(-1, block_size * embedding_dim_size) @ W1 + b1)\n",
        "logits = h @ W2 + b2\n",
        "loss = F.cross_entropy(logits, Yval)\n",
        "print(loss)"
      ],
      "metadata": {
        "colab": {
          "base_uri": "https://localhost:8080/"
        },
        "id": "mCUIhNhM33hf",
        "outputId": "11f14b83-31df-46f4-9207-86fd84570c8d"
      },
      "execution_count": 105,
      "outputs": [
        {
          "output_type": "stream",
          "name": "stdout",
          "text": [
            "tensor(2.1972, grad_fn=<NllLossBackward0>)\n"
          ]
        }
      ]
    },
    {
      "cell_type": "code",
      "source": [
        "emb = C[Xtest]\n",
        "h = torch.tanh(emb.view(-1, block_size * embedding_dim_size) @ W1 + b1)\n",
        "logits = h @ W2 + b2\n",
        "loss = F.cross_entropy(logits, Ytest)\n",
        "print(loss)"
      ],
      "metadata": {
        "colab": {
          "base_uri": "https://localhost:8080/"
        },
        "id": "SYbbdHfhupWp",
        "outputId": "cbcecd96-404a-4134-d4e0-fb3be47b034a"
      },
      "execution_count": 106,
      "outputs": [
        {
          "output_type": "stream",
          "name": "stdout",
          "text": [
            "tensor(2.2063, grad_fn=<NllLossBackward0>)\n"
          ]
        }
      ]
    },
    {
      "cell_type": "code",
      "source": [],
      "metadata": {
        "id": "OodKCWKqzpfk"
      },
      "execution_count": null,
      "outputs": []
    },
    {
      "cell_type": "markdown",
      "source": [
        "If loss_val == loss_training -> underfitting\n",
        "if loss_val >> loss_training -> overfitting"
      ],
      "metadata": {
        "id": "Y_uxoaACuxIM"
      }
    },
    {
      "cell_type": "code",
      "source": [
        "# sample from the model\n",
        "g = torch.Generator().manual_seed(2147483647 + 10)\n",
        "\n",
        "for _ in range(20):\n",
        "\n",
        "    out = []\n",
        "    context = [0] * block_size\n",
        "    while True:\n",
        "      emb = C[torch.tensor([context])] # (1,block_size,d)\n",
        "      h = torch.tanh(emb.view(1, -1) @ W1 + b1)\n",
        "      logits = h @ W2 + b2\n",
        "      probs = F.softmax(logits, dim=1)\n",
        "      ix = torch.multinomial(probs, num_samples=1, generator=g).item()\n",
        "      context = context[1:] + [ix]\n",
        "      out.append(ix)\n",
        "      if ix == 0:\n",
        "        break\n",
        "\n",
        "    print(''.join(itos[i] for i in out))"
      ],
      "metadata": {
        "colab": {
          "base_uri": "https://localhost:8080/"
        },
        "id": "f2DQJXBTzqel",
        "outputId": "87ce7ed9-c550-4270-d04b-3e80a88a082a"
      },
      "execution_count": 108,
      "outputs": [
        {
          "output_type": "stream",
          "name": "stdout",
          "text": [
            "mora.\n",
            "kmynn.\n",
            "see.\n",
            "med.\n",
            "ryla.\n",
            "reishareks.\n",
            "leg.\n",
            "aderedielin.\n",
            "shi.\n",
            "jen.\n",
            "edelieananarleilyn.\n",
            "honelin.\n",
            "shrunziehimier.\n",
            "kin.\n",
            "renelionnie.\n",
            "conu.\n",
            "zened.\n",
            "ryyah.\n",
            "faehs.\n",
            "kayshistoula.\n"
          ]
        }
      ]
    }
  ]
}