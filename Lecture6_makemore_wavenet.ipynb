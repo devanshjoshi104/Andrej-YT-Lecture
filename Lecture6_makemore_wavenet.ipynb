{
  "nbformat": 4,
  "nbformat_minor": 0,
  "metadata": {
    "colab": {
      "provenance": [],
      "include_colab_link": true
    },
    "kernelspec": {
      "name": "python3",
      "display_name": "Python 3"
    },
    "language_info": {
      "name": "python"
    }
  },
  "cells": [
    {
      "cell_type": "markdown",
      "metadata": {
        "id": "view-in-github",
        "colab_type": "text"
      },
      "source": [
        "<a href=\"https://colab.research.google.com/github/devanshjoshi104/Andrej-YT-Lecture/blob/main/Lecture6_makemore_wavenet.ipynb\" target=\"_parent\"><img src=\"https://colab.research.google.com/assets/colab-badge.svg\" alt=\"Open In Colab\"/></a>"
      ]
    },
    {
      "cell_type": "code",
      "source": [
        "import torch\n",
        "import torch.nn.functional as F\n",
        "import matplotlib.pyplot as plt # for making figures\n",
        "%matplotlib inline\n",
        "import random"
      ],
      "metadata": {
        "id": "C13CGGNBrUZ6"
      },
      "execution_count": 1,
      "outputs": []
    },
    {
      "cell_type": "code",
      "execution_count": 2,
      "metadata": {
        "id": "_xIslsUTaOzR",
        "colab": {
          "base_uri": "https://localhost:8080/"
        },
        "outputId": "d27f2eed-6f4c-4f03-a4ab-0c71b941a211"
      },
      "outputs": [
        {
          "output_type": "stream",
          "name": "stdout",
          "text": [
            "--2024-12-30 16:31:57--  https://raw.githubusercontent.com/karpathy/makemore/master/names.txt\n",
            "Resolving raw.githubusercontent.com (raw.githubusercontent.com)... 185.199.108.133, 185.199.109.133, 185.199.110.133, ...\n",
            "Connecting to raw.githubusercontent.com (raw.githubusercontent.com)|185.199.108.133|:443... connected.\n",
            "HTTP request sent, awaiting response... 200 OK\n",
            "Length: 228145 (223K) [text/plain]\n",
            "Saving to: ‘names.txt’\n",
            "\n",
            "names.txt           100%[===================>] 222.80K  --.-KB/s    in 0.02s   \n",
            "\n",
            "2024-12-30 16:31:57 (9.60 MB/s) - ‘names.txt’ saved [228145/228145]\n",
            "\n"
          ]
        }
      ],
      "source": [
        "# download the names.txt file from github\n",
        "!wget https://raw.githubusercontent.com/karpathy/makemore/master/names.txt"
      ]
    },
    {
      "cell_type": "code",
      "source": [
        "words = open('names.txt', 'r').read().splitlines()\n",
        "words[:8]"
      ],
      "metadata": {
        "colab": {
          "base_uri": "https://localhost:8080/"
        },
        "id": "ip2v_8kYqA_R",
        "outputId": "08836247-ed13-4242-e4d0-d1f0416148ab"
      },
      "execution_count": 3,
      "outputs": [
        {
          "output_type": "execute_result",
          "data": {
            "text/plain": [
              "['emma', 'olivia', 'ava', 'isabella', 'sophia', 'charlotte', 'mia', 'amelia']"
            ]
          },
          "metadata": {},
          "execution_count": 3
        }
      ]
    },
    {
      "cell_type": "code",
      "source": [
        "chars = sorted(list(set(''.join(words))))\n",
        "stoi = {s:i+1 for i,s in enumerate(chars)}\n",
        "stoi['.'] = 0\n",
        "itos = {i:s for s,i in stoi.items()}\n",
        "print(itos)"
      ],
      "metadata": {
        "id": "REcPL7cHqIDn",
        "colab": {
          "base_uri": "https://localhost:8080/"
        },
        "outputId": "3fcce2f7-b248-4211-9968-7a24997adc33"
      },
      "execution_count": 4,
      "outputs": [
        {
          "output_type": "stream",
          "name": "stdout",
          "text": [
            "{1: 'a', 2: 'b', 3: 'c', 4: 'd', 5: 'e', 6: 'f', 7: 'g', 8: 'h', 9: 'i', 10: 'j', 11: 'k', 12: 'l', 13: 'm', 14: 'n', 15: 'o', 16: 'p', 17: 'q', 18: 'r', 19: 's', 20: 't', 21: 'u', 22: 'v', 23: 'w', 24: 'x', 25: 'y', 26: 'z', 0: '.'}\n"
          ]
        }
      ]
    },
    {
      "cell_type": "code",
      "source": [
        "# params\n",
        "sample_data_size = len(words)\n",
        "# sample_data_size = 5\n",
        "embedding_dim_size = 10\n",
        "block_size = 8\n",
        "neural_net_nodes = 68\n",
        "g = torch.Generator().manual_seed(2147483647)\n",
        "vocab_size = len(itos)"
      ],
      "metadata": {
        "id": "Tg8eQCV3wlpQ"
      },
      "execution_count": 109,
      "outputs": []
    },
    {
      "cell_type": "code",
      "source": [
        "def build_dataset(words):\n",
        "  X, Y = [], []\n",
        "  for w in words[:sample_data_size]:\n",
        "      context = [0] * block_size\n",
        "      for ch in w + '.':\n",
        "          ix = stoi[ch]\n",
        "          X.append(context)\n",
        "          Y.append(ix)\n",
        "          # print(''.join(itos[i] for i in context), '--->', itos[ix])\n",
        "          context = context[1:] + [ix]\n",
        "  X = torch.tensor(X)\n",
        "  Y = torch.tensor(Y)\n",
        "  return X,Y\n"
      ],
      "metadata": {
        "id": "T7vct_1PrXkI"
      },
      "execution_count": 63,
      "outputs": []
    },
    {
      "cell_type": "code",
      "source": [
        "random.seed(42)\n",
        "random.shuffle(words)\n",
        "n1 = int(0.8*len(words))\n",
        "n2 = int(0.9*len(words))\n",
        "X,Y = build_dataset(words[:n1])\n",
        "Xval,Yval = build_dataset(words[n1:n2])\n",
        "Xtest,Ytest = build_dataset(words[n2:])\n"
      ],
      "metadata": {
        "id": "SWFGyEqbtFBs"
      },
      "execution_count": 64,
      "outputs": []
    },
    {
      "cell_type": "code",
      "source": [
        "class Linear:\n",
        "\n",
        "  def __init__(self, fan_in, fan_out, bias=True):\n",
        "    self.weight = torch.randn((fan_in, fan_out), generator=g) / fan_in**0.5 # kaiming init\n",
        "    self.bias = torch.zeros(fan_out) if bias else None\n",
        "\n",
        "  def __call__(self, x):\n",
        "    self.out = x @ self.weight\n",
        "    if self.bias is not None:\n",
        "      self.out += self.bias\n",
        "    return self.out\n",
        "\n",
        "  def parameters(self):\n",
        "    return [self.weight] + ([] if self.bias is None else [self.bias])\n",
        "\n",
        "# ----------------------------------------------------------------------------------------------------\n",
        "\n",
        "class BatchNorm1d:\n",
        "\n",
        "  def __init__(self, dim, eps=1e-5, momentum=0.1):\n",
        "    self.eps = eps\n",
        "    self.momentum = momentum\n",
        "    self.training = True\n",
        "    # parameters (trained with backprop)\n",
        "    self.gamma = torch.ones(dim)\n",
        "    self.beta = torch.zeros(dim)\n",
        "    # buffers (trained with a running 'momentum update')\n",
        "    self.running_mean = torch.zeros(dim)\n",
        "    self.running_var = torch.ones(dim)\n",
        "\n",
        "  def __call__(self, x):\n",
        "    # calculate the forward pass\n",
        "    if x.ndim == 2:\n",
        "      dim = 0\n",
        "    elif x.ndim == 3:\n",
        "      dim = (0,1)\n",
        "    if self.training:\n",
        "      xmean = x.mean(dim, keepdim=True)\n",
        "      xvar = x.var(dim, keepdim=True)\n",
        "    else:\n",
        "      xmean = self.running_mean\n",
        "      xvar = self.running_var\n",
        "    xhat = (x - xmean) / torch.sqrt(xvar + self.eps) # normalize to unit variance\n",
        "    self.out = self.gamma * xhat + self.beta\n",
        "    # update the buffers\n",
        "    if self.training:\n",
        "      with torch.no_grad():\n",
        "        self.running_mean = (1 - self.momentum) * self.running_mean + self.momentum * xmean\n",
        "        self.running_var = (1 - self.momentum) * self.running_var + self.momentum * xvar\n",
        "    return self.out\n",
        "\n",
        "  def parameters(self):\n",
        "    return [self.gamma, self.beta]\n",
        "\n",
        "  # ----------------------------------------------------------------------------------------------------\n",
        "\n",
        "class Tanh:\n",
        "  def __call__(self, x):\n",
        "    self.out = torch.tanh(x)\n",
        "    return self.out\n",
        "  def parameters(self):\n",
        "    return []\n",
        " # ----------------------------------------------------------------------------------------------------\n",
        "\n",
        "class Embedding:\n",
        "  def __init__(self, num_embeddings, embedding_dim_size):\n",
        "    self.weight = torch.randn((num_embeddings, embedding_dim_size))\n",
        "\n",
        "  def __call__(self, IX):\n",
        "    self.out = self.weight[IX]\n",
        "    return self.out\n",
        "\n",
        "  def parameters(self):\n",
        "    return [self.weight]\n",
        "\n",
        "  # ----------------------------------------------------------------------------------------------------\n",
        "class Flatten:\n",
        "  def __call__(self, x):\n",
        "    self.out = x.view(x.shape[0], -1)\n",
        "    return self.out\n",
        "\n",
        "  def parameters(self):\n",
        "    return []\n",
        "\n",
        "    # ----------------------------------------------------------------------------------------------------\n",
        "class FlattenConsecutive:\n",
        "  def __init__(self, n):\n",
        "    self.n = n\n",
        "\n",
        "  def __call__(self, x):\n",
        "    B, T, C = x.shape\n",
        "    x = x.view(B, T // self.n , self.n * C)\n",
        "\n",
        "    if x.shape[1] == 1:\n",
        "      x = x.squeeze(1)\n",
        "\n",
        "    self.out = x\n",
        "    return self.out\n",
        "\n",
        "  def parameters(self):\n",
        "    return []\n",
        "\n",
        "  # ----------------------------------------------------------------------------------------------------\n",
        "\n",
        "class Sequential:\n",
        "  def __init__(self, layers):\n",
        "    self.layers = layers\n",
        "\n",
        "  def __call__(self, x):\n",
        "    for layer in self.layers:\n",
        "        x = layer(x)\n",
        "    self.out = x\n",
        "    return self.out\n",
        "\n",
        "  def parameters(self):\n",
        "    return [p for layer in self.layers for p in layer.parameters()]\n",
        "\n",
        "  def requires_params_grad(self):\n",
        "    for p in self.parameters():\n",
        "      p.requires_grad = True\n",
        "\n",
        "  def reset_params_grad(self):\n",
        "    for p in self.parameters():\n",
        "      p.grad = None\n",
        "\n",
        "  def update_layers_weight(self):\n",
        "    with torch.no_grad():\n",
        "      self.layers[-1].weight*=0.1\n",
        "\n",
        "      for layer in self.layers:\n",
        "        if isinstance(layer, Linear):\n",
        "          layer.weight *= 5/3\n",
        "\n",
        "  def enable_training_mode(self):\n",
        "    for layer in self.layers:\n",
        "      layer.training = False\n",
        "\n",
        "  # for debug purposes\n",
        "  def print_layers_shape(self):\n",
        "    for layer in self.layers:\n",
        "      # print(layer.__class__.__name__)\n",
        "      print(layer.__class__.__name__, ':', layer.out.shape)\n",
        ""
      ],
      "metadata": {
        "id": "VKzfgLhR3DXs"
      },
      "execution_count": 116,
      "outputs": []
    },
    {
      "cell_type": "code",
      "source": [
        "torch.manual_seed(42)"
      ],
      "metadata": {
        "colab": {
          "base_uri": "https://localhost:8080/"
        },
        "id": "_87Fynf-bL80",
        "outputId": "6cb6f0ee-04c0-48de-fda7-5056c2071280"
      },
      "execution_count": 14,
      "outputs": [
        {
          "output_type": "execute_result",
          "data": {
            "text/plain": [
              "<torch._C.Generator at 0x79fa7aee80d0>"
            ]
          },
          "metadata": {},
          "execution_count": 14
        }
      ]
    },
    {
      "cell_type": "code",
      "source": [
        "consecutive_concat_size = 2\n",
        "model = Sequential([\n",
        "          Embedding(vocab_size, embedding_dim_size),\n",
        "\n",
        "          FlattenConsecutive(consecutive_concat_size),\n",
        "          Linear(embedding_dim_size * consecutive_concat_size, neural_net_nodes, bias=False),\n",
        "          BatchNorm1d(neural_net_nodes),\n",
        "          Tanh(),\n",
        "\n",
        "          FlattenConsecutive(consecutive_concat_size),\n",
        "          Linear(neural_net_nodes * consecutive_concat_size, neural_net_nodes, bias=False),\n",
        "          BatchNorm1d(neural_net_nodes),\n",
        "          Tanh(),\n",
        "\n",
        "          FlattenConsecutive(consecutive_concat_size),\n",
        "          Linear(neural_net_nodes * consecutive_concat_size, neural_net_nodes, bias=False),\n",
        "          BatchNorm1d(neural_net_nodes),\n",
        "          Tanh(),\n",
        "\n",
        "          Linear(neural_net_nodes, vocab_size) ])\n",
        "\n",
        "model.update_layers_weight()\n",
        "\n",
        "print(sum(p.nelement() for p in model.parameters()))\n",
        "model.requires_params_grad()\n"
      ],
      "metadata": {
        "colab": {
          "base_uri": "https://localhost:8080/"
        },
        "id": "ZJch8tH9cEx8",
        "outputId": "5d2524ba-f5af-4af2-8dc2-8707871b961d"
      },
      "execution_count": 117,
      "outputs": [
        {
          "output_type": "stream",
          "name": "stdout",
          "text": [
            "22397\n"
          ]
        }
      ]
    },
    {
      "cell_type": "code",
      "source": [
        "\n",
        "model.print_layers_shape()"
      ],
      "metadata": {
        "colab": {
          "base_uri": "https://localhost:8080/"
        },
        "id": "FXsSbyHKt1WL",
        "outputId": "8e6bc522-540c-41bc-bc94-bb80dff72d5a"
      },
      "execution_count": 108,
      "outputs": [
        {
          "output_type": "stream",
          "name": "stdout",
          "text": [
            "Embedding : torch.Size([4, 8, 10])\n",
            "FlattenConsecutive : torch.Size([4, 4, 20])\n",
            "Linear : torch.Size([4, 4, 200])\n",
            "BatchNorm1d : torch.Size([4, 4, 200])\n",
            "Tanh : torch.Size([4, 4, 200])\n",
            "FlattenConsecutive : torch.Size([4, 2, 400])\n",
            "Linear : torch.Size([4, 2, 200])\n",
            "BatchNorm1d : torch.Size([4, 2, 200])\n",
            "Tanh : torch.Size([4, 2, 200])\n",
            "FlattenConsecutive : torch.Size([4, 400])\n",
            "Linear : torch.Size([4, 200])\n",
            "BatchNorm1d : torch.Size([4, 200])\n",
            "Tanh : torch.Size([4, 200])\n",
            "Linear : torch.Size([4, 27])\n"
          ]
        }
      ]
    },
    {
      "cell_type": "code",
      "source": [
        "max_items = 2_00_000\n",
        "batch_size = 32\n",
        "lossi = []\n",
        "\n",
        "for i in range(max_items):\n",
        "  # batches\n",
        "  ix = torch.randint(0, X.shape[0], (batch_size,))\n",
        "  Xb, Yb = X[ix], Y[ix]\n",
        "\n",
        "  # forward pass\n",
        "  x = model(Xb)\n",
        "  loss = F.cross_entropy(x, Yb)\n",
        "\n",
        "  # backward pass\n",
        "  model.reset_params_grad()\n",
        "  loss.backward()\n",
        "\n",
        "  # update\n",
        "  lr = 0.1 if i < 1_20_000 else 0.01\n",
        "  for p in model.parameters():\n",
        "    p.data+= - lr * p.grad\n",
        "\n",
        "  lossi.append(loss.log10().item())\n",
        "  if i % 10000 == 0:\n",
        "    print(f'{i:7d}/{max_items:7d}: {loss.item():.4f}')"
      ],
      "metadata": {
        "colab": {
          "base_uri": "https://localhost:8080/"
        },
        "id": "Sz5_jGKwdQp4",
        "outputId": "3bfde173-e786-48c5-8992-ee25a6664d04"
      },
      "execution_count": 118,
      "outputs": [
        {
          "output_type": "stream",
          "name": "stdout",
          "text": [
            "      0/ 200000: 3.2961\n",
            "  10000/ 200000: 2.4718\n",
            "  20000/ 200000: 2.2032\n",
            "  30000/ 200000: 2.1848\n",
            "  40000/ 200000: 1.8253\n",
            "  50000/ 200000: 2.1608\n",
            "  60000/ 200000: 2.3442\n",
            "  70000/ 200000: 1.9743\n",
            "  80000/ 200000: 1.7541\n",
            "  90000/ 200000: 1.8047\n",
            " 100000/ 200000: 1.7431\n",
            " 110000/ 200000: 1.9105\n",
            " 120000/ 200000: 1.3675\n",
            " 130000/ 200000: 2.1674\n",
            " 140000/ 200000: 2.3086\n",
            " 150000/ 200000: 1.9972\n",
            " 160000/ 200000: 2.1714\n",
            " 170000/ 200000: 1.9780\n",
            " 180000/ 200000: 1.9125\n",
            " 190000/ 200000: 2.0506\n"
          ]
        }
      ]
    },
    {
      "cell_type": "code",
      "source": [
        "plt.plot(torch.tensor(lossi).view(-1, 1000).mean(1))\n"
      ],
      "metadata": {
        "colab": {
          "base_uri": "https://localhost:8080/",
          "height": 447
        },
        "id": "1xB4LMwRgHJF",
        "outputId": "03c975a6-fa98-439b-9a9f-b81609de1322"
      },
      "execution_count": 119,
      "outputs": [
        {
          "output_type": "execute_result",
          "data": {
            "text/plain": [
              "[<matplotlib.lines.Line2D at 0x79f9b1c52860>]"
            ]
          },
          "metadata": {},
          "execution_count": 119
        },
        {
          "output_type": "display_data",
          "data": {
            "text/plain": [
              "<Figure size 640x480 with 1 Axes>"
            ],
            "image/png": "[encoded data removed]"
          },
          "metadata": {}
        }
      ]
    },
    {
      "cell_type": "code",
      "source": [
        "model.enable_training_mode()\n",
        "with torch.no_grad():\n",
        "  def print_loss(type):\n",
        "    x,y = {'train' : (X, Y),\n",
        "           'val' : (Xval, Yval),\n",
        "           'test': (Xtest, Ytest)} [type]\n",
        "\n",
        "    # forward pass\n",
        "    x = model(x)\n",
        "\n",
        "    loss = F.cross_entropy(x, y)\n",
        "    print(type, loss.item())\n",
        "    return loss\n",
        ""
      ],
      "metadata": {
        "id": "-K7Tr63Xeszg"
      },
      "execution_count": 120,
      "outputs": []
    },
    {
      "cell_type": "code",
      "source": [
        "print_loss('train')\n",
        "print_loss('val')"
      ],
      "metadata": {
        "colab": {
          "base_uri": "https://localhost:8080/"
        },
        "id": "qa8yy0vufJhf",
        "outputId": "b135df4e-f246-447d-8c67-9a1a57efa37b"
      },
      "execution_count": 121,
      "outputs": [
        {
          "output_type": "stream",
          "name": "stdout",
          "text": [
            "train 1.9264129400253296\n",
            "val 2.0252203941345215\n"
          ]
        },
        {
          "output_type": "execute_result",
          "data": {
            "text/plain": [
              "tensor(2.0252, grad_fn=<NllLossBackward0>)"
            ]
          },
          "metadata": {},
          "execution_count": 121
        }
      ]
    },
    {
      "cell_type": "code",
      "source": [],
      "metadata": {
        "colab": {
          "base_uri": "https://localhost:8080/"
        },
        "id": "3uI2fzfnqBtP",
        "outputId": "1ad1c332-5b66-4dbb-a209-cd1dab23ebd9"
      },
      "execution_count": 77,
      "outputs": [
        {
          "output_type": "execute_result",
          "data": {
            "text/plain": [
              "torch.Size([100, 23, 4, 5, 200])"
            ]
          },
          "metadata": {},
          "execution_count": 77
        }
      ]
    }
  ]
}