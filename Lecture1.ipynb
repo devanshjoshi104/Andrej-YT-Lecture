{
  "nbformat": 4,
  "nbformat_minor": 0,
  "metadata": {
    "colab": {
      "provenance": [],
      "authorship_tag": "ABX9TyONcbmmTSGU+A9Ky0eWUJIE",
      "include_colab_link": true
    },
    "kernelspec": {
      "name": "python3",
      "display_name": "Python 3"
    },
    "language_info": {
      "name": "python"
    }
  },
  "cells": [
    {
      "cell_type": "markdown",
      "metadata": {
        "id": "view-in-github",
        "colab_type": "text"
      },
      "source": [
        "<a href=\"https://colab.research.google.com/github/devanshjoshi104/Andrej-YT-Lecture/blob/main/Lecture1.ipynb\" target=\"_parent\"><img src=\"https://colab.research.google.com/assets/colab-badge.svg\" alt=\"Open In Colab\"/></a>"
      ]
    },
    {
      "cell_type": "code",
      "execution_count": 3,
      "metadata": {
        "id": "2lHjXUq4_Q7M"
      },
      "outputs": [],
      "source": [
        "import math\n",
        "import random\n",
        "import numpy as np\n",
        "import matplotlib.pyplot as plt\n",
        "%matplotlib inline"
      ]
    },
    {
      "cell_type": "code",
      "source": [
        "class Node:\n",
        "  def __init__(self, data, _children = (), _op = '', label=''):\n",
        "    self.data = data\n",
        "    self._prev = set(_children)\n",
        "    self._op = _op\n",
        "    self.label = label\n",
        "    self.grad = 0.0\n",
        "    self._backward = lambda: None\n",
        "\n",
        "  def __repr__(self):\n",
        "    return f\"Node(data = {self.data})\"\n",
        "\n",
        "  def __add__(self, other):\n",
        "    other = other if isinstance(other, Node) else Node(other)\n",
        "    out = Node(self.data + other.data, (self, other), '+')\n",
        "\n",
        "    def _backward():\n",
        "      self.grad += 1.0 * out.grad\n",
        "      other.grad += 1.0 * out.grad\n",
        "    out._backward = _backward\n",
        "\n",
        "    return out\n",
        "\n",
        "  def __mul__(self, other):\n",
        "    other = other if isinstance(other, Node) else Node(other)\n",
        "    out = Node(self.data * other.data, (self, other), '*')\n",
        "\n",
        "    def _backward():\n",
        "      self.grad += other.data * out.grad\n",
        "      other.grad += self.data * out.grad\n",
        "    out._backward = _backward\n",
        "\n",
        "    return out\n",
        "\n",
        "  def tanh(self):\n",
        "    x = self.data\n",
        "    t = (math.exp(2*x) - 1)/(math.exp(2*x) + 1)\n",
        "    out = Node(t, (self, ), 'tanh')\n",
        "\n",
        "    def _backward():\n",
        "      self.grad += (1 - t**2) * out.grad\n",
        "    out._backward = _backward\n",
        "\n",
        "    return out\n",
        "\n",
        "  def exp(self):\n",
        "    x = self.data\n",
        "    out = Node(math.exp(x), (self, ), 'exp')\n",
        "\n",
        "    def _backward():\n",
        "      self.grad += out.data * out.grad\n",
        "    out._backward = _backward\n",
        "\n",
        "    return out\n",
        "\n",
        "\n",
        "  def __rmul__(self, other):\n",
        "    return self * other\n",
        "\n",
        "  def __truediv__(self, other):\n",
        "    return self * other**-1\n",
        "\n",
        "  def __neg__(self):\n",
        "    return self * -1\n",
        "\n",
        "  def __sub__(self, other):\n",
        "    return self + (-other)\n",
        "\n",
        "  def __radd__(self, other):\n",
        "    return self + other\n",
        "\n",
        "  def __pow__(self, other):\n",
        "    assert isinstance(other, (int, float)), \"only supporting int/float powers for now\"\n",
        "    out = Node(self.data**other, (self,), f'**{other}')\n",
        "    def _backward():\n",
        "        self.grad += other * (self.data ** (other - 1)) * out.grad\n",
        "    out._backward = _backward\n",
        "    return out\n",
        "\n",
        "  def backward(self):\n",
        "\n",
        "    topo_set = []\n",
        "    visited = set()\n",
        "    def build_topological_set(v):\n",
        "      if v not in visited:\n",
        "        visited.add(v)\n",
        "        for child in v._prev:\n",
        "          build_topological_set(child)\n",
        "        topo_set.append(v)\n",
        "    build_topological_set(self)\n",
        "\n",
        "    self.grad = 1.0\n",
        "    for node in reversed(topo_set):\n",
        "      node._backward()"
      ],
      "metadata": {
        "id": "wWZheI9LDPet"
      },
      "execution_count": 55,
      "outputs": []
    },
    {
      "cell_type": "code",
      "source": [
        "a = Node(2.0, label='a')\n",
        "b = Node(-3.0, label='b')\n",
        "c = Node(10.0, label='c')\n",
        "e = a*b; e.label = 'e'\n",
        "d = e + c; d.label = 'd'\n",
        "f = Node(-2.0, label='f')\n",
        "L = d * f; L.label = 'L'\n",
        "L.grad = 1.0\n",
        "L.backward()\n",
        "draw_dot(L)"
      ],
      "metadata": {
        "colab": {
          "base_uri": "https://localhost:8080/",
          "height": 249
        },
        "id": "Ru3r8h6mDnyw",
        "outputId": "803cfe56-3a77-4795-cb2a-e7a88a527ef7"
      },
      "execution_count": 57,
      "outputs": [
        {
          "output_type": "execute_result",
          "data": {
            "image/svg+xml": "<?xml version=\"1.0\" encoding=\"UTF-8\" standalone=\"no\"?>\n<!DOCTYPE svg PUBLIC \"-//W3C//DTD SVG 1.1//EN\"\n \"http://www.w3.org/Graphics/SVG/1.1/DTD/svg11.dtd\">\n<!-- Generated by graphviz version 2.43.0 (0)\n -->\n<!-- Title: %3 Pages: 1 -->\n<svg width=\"1050pt\" height=\"156pt\"\n viewBox=\"0.00 0.00 1050.00 156.00\" xmlns=\"http://www.w3.org/2000/svg\" xmlns:xlink=\"http://www.w3.org/1999/xlink\">\n<g id=\"graph0\" class=\"graph\" transform=\"scale(1 1) rotate(0) translate(4 152)\">\n<title>%3</title>\n<polygon fill=\"white\" stroke=\"transparent\" points=\"-4,4 -4,-152 1046,-152 1046,4 -4,4\"/>\n<!-- 134912767301360 -->\n<g id=\"node1\" class=\"node\">\n<title>134912767301360</title>\n<polygon fill=\"none\" stroke=\"black\" points=\"4.5,-111.5 4.5,-147.5 162.5,-147.5 162.5,-111.5 4.5,-111.5\"/>\n<text text-anchor=\"middle\" x=\"16\" y=\"-125.8\" font-family=\"Times,serif\" font-size=\"14.00\">a</text>\n<polyline fill=\"none\" stroke=\"black\" points=\"27.5,-111.5 27.5,-147.5 \"/>\n<text text-anchor=\"middle\" x=\"61\" y=\"-125.8\" font-family=\"Times,serif\" font-size=\"14.00\">data 2.00</text>\n<polyline fill=\"none\" stroke=\"black\" points=\"94.5,-111.5 94.5,-147.5 \"/>\n<text text-anchor=\"middle\" x=\"128.5\" y=\"-125.8\" font-family=\"Times,serif\" font-size=\"14.00\">grad 6.00</text>\n</g>\n<!-- 134912767310720* -->\n<g id=\"node8\" class=\"node\">\n<title>134912767310720*</title>\n<ellipse fill=\"none\" stroke=\"black\" cx=\"230\" cy=\"-101.5\" rx=\"27\" ry=\"18\"/>\n<text text-anchor=\"middle\" x=\"230\" y=\"-97.8\" font-family=\"Times,serif\" font-size=\"14.00\">*</text>\n</g>\n<!-- 134912767301360&#45;&gt;134912767310720* -->\n<g id=\"edge4\" class=\"edge\">\n<title>134912767301360&#45;&gt;134912767310720*</title>\n<path fill=\"none\" stroke=\"black\" d=\"M162.67,-114.35C173.61,-112.23 184.37,-110.15 193.93,-108.3\"/>\n<polygon fill=\"black\" stroke=\"black\" points=\"194.64,-111.72 203.79,-106.39 193.31,-104.85 194.64,-111.72\"/>\n</g>\n<!-- 134912771864368 -->\n<g id=\"node2\" class=\"node\">\n<title>134912771864368</title>\n<polygon fill=\"none\" stroke=\"black\" points=\"589,-55.5 589,-91.5 752,-91.5 752,-55.5 589,-55.5\"/>\n<text text-anchor=\"middle\" x=\"600.5\" y=\"-69.8\" font-family=\"Times,serif\" font-size=\"14.00\">d</text>\n<polyline fill=\"none\" stroke=\"black\" points=\"612,-55.5 612,-91.5 \"/>\n<text text-anchor=\"middle\" x=\"645.5\" y=\"-69.8\" font-family=\"Times,serif\" font-size=\"14.00\">data 4.00</text>\n<polyline fill=\"none\" stroke=\"black\" points=\"679,-55.5 679,-91.5 \"/>\n<text text-anchor=\"middle\" x=\"715.5\" y=\"-69.8\" font-family=\"Times,serif\" font-size=\"14.00\">grad &#45;2.00</text>\n</g>\n<!-- 134912771862880* -->\n<g id=\"node5\" class=\"node\">\n<title>134912771862880*</title>\n<ellipse fill=\"none\" stroke=\"black\" cx=\"815\" cy=\"-45.5\" rx=\"27\" ry=\"18\"/>\n<text text-anchor=\"middle\" x=\"815\" y=\"-41.8\" font-family=\"Times,serif\" font-size=\"14.00\">*</text>\n</g>\n<!-- 134912771864368&#45;&gt;134912771862880* -->\n<g id=\"edge6\" class=\"edge\">\n<title>134912771864368&#45;&gt;134912771862880*</title>\n<path fill=\"none\" stroke=\"black\" d=\"M752.33,-57.62C761.69,-55.78 770.83,-53.98 779.08,-52.36\"/>\n<polygon fill=\"black\" stroke=\"black\" points=\"779.87,-55.77 789.01,-50.41 778.52,-48.9 779.87,-55.77\"/>\n</g>\n<!-- 134912771864368+ -->\n<g id=\"node3\" class=\"node\">\n<title>134912771864368+</title>\n<ellipse fill=\"none\" stroke=\"black\" cx=\"526\" cy=\"-73.5\" rx=\"27\" ry=\"18\"/>\n<text text-anchor=\"middle\" x=\"526\" y=\"-69.8\" font-family=\"Times,serif\" font-size=\"14.00\">+</text>\n</g>\n<!-- 134912771864368+&#45;&gt;134912771864368 -->\n<g id=\"edge1\" class=\"edge\">\n<title>134912771864368+&#45;&gt;134912771864368</title>\n<path fill=\"none\" stroke=\"black\" d=\"M553.14,-73.5C560.75,-73.5 569.53,-73.5 578.78,-73.5\"/>\n<polygon fill=\"black\" stroke=\"black\" points=\"578.97,-77 588.97,-73.5 578.97,-70 578.97,-77\"/>\n</g>\n<!-- 134912771862880 -->\n<g id=\"node4\" class=\"node\">\n<title>134912771862880</title>\n<polygon fill=\"none\" stroke=\"black\" points=\"878,-27.5 878,-63.5 1042,-63.5 1042,-27.5 878,-27.5\"/>\n<text text-anchor=\"middle\" x=\"890.5\" y=\"-41.8\" font-family=\"Times,serif\" font-size=\"14.00\">L</text>\n<polyline fill=\"none\" stroke=\"black\" points=\"903,-27.5 903,-63.5 \"/>\n<text text-anchor=\"middle\" x=\"938.5\" y=\"-41.8\" font-family=\"Times,serif\" font-size=\"14.00\">data &#45;8.00</text>\n<polyline fill=\"none\" stroke=\"black\" points=\"974,-27.5 974,-63.5 \"/>\n<text text-anchor=\"middle\" x=\"1008\" y=\"-41.8\" font-family=\"Times,serif\" font-size=\"14.00\">grad 1.00</text>\n</g>\n<!-- 134912771862880*&#45;&gt;134912771862880 -->\n<g id=\"edge2\" class=\"edge\">\n<title>134912771862880*&#45;&gt;134912771862880</title>\n<path fill=\"none\" stroke=\"black\" d=\"M842.23,-45.5C849.81,-45.5 858.54,-45.5 867.75,-45.5\"/>\n<polygon fill=\"black\" stroke=\"black\" points=\"867.89,-49 877.89,-45.5 867.89,-42 867.89,-49\"/>\n</g>\n<!-- 134912767305056 -->\n<g id=\"node6\" class=\"node\">\n<title>134912767305056</title>\n<polygon fill=\"none\" stroke=\"black\" points=\"590.5,-0.5 590.5,-36.5 750.5,-36.5 750.5,-0.5 590.5,-0.5\"/>\n<text text-anchor=\"middle\" x=\"601\" y=\"-14.8\" font-family=\"Times,serif\" font-size=\"14.00\">f</text>\n<polyline fill=\"none\" stroke=\"black\" points=\"611.5,-0.5 611.5,-36.5 \"/>\n<text text-anchor=\"middle\" x=\"647\" y=\"-14.8\" font-family=\"Times,serif\" font-size=\"14.00\">data &#45;2.00</text>\n<polyline fill=\"none\" stroke=\"black\" points=\"682.5,-0.5 682.5,-36.5 \"/>\n<text text-anchor=\"middle\" x=\"716.5\" y=\"-14.8\" font-family=\"Times,serif\" font-size=\"14.00\">grad 4.00</text>\n</g>\n<!-- 134912767305056&#45;&gt;134912771862880* -->\n<g id=\"edge7\" class=\"edge\">\n<title>134912767305056&#45;&gt;134912771862880*</title>\n<path fill=\"none\" stroke=\"black\" d=\"M750.67,-33.5C760.5,-35.36 770.14,-37.19 778.81,-38.83\"/>\n<polygon fill=\"black\" stroke=\"black\" points=\"778.37,-42.31 788.85,-40.73 779.67,-35.43 778.37,-42.31\"/>\n</g>\n<!-- 134912767310720 -->\n<g id=\"node7\" class=\"node\">\n<title>134912767310720</title>\n<polygon fill=\"none\" stroke=\"black\" points=\"294.5,-83.5 294.5,-119.5 461.5,-119.5 461.5,-83.5 294.5,-83.5\"/>\n<text text-anchor=\"middle\" x=\"306\" y=\"-97.8\" font-family=\"Times,serif\" font-size=\"14.00\">e</text>\n<polyline fill=\"none\" stroke=\"black\" points=\"317.5,-83.5 317.5,-119.5 \"/>\n<text text-anchor=\"middle\" x=\"353\" y=\"-97.8\" font-family=\"Times,serif\" font-size=\"14.00\">data &#45;6.00</text>\n<polyline fill=\"none\" stroke=\"black\" points=\"388.5,-83.5 388.5,-119.5 \"/>\n<text text-anchor=\"middle\" x=\"425\" y=\"-97.8\" font-family=\"Times,serif\" font-size=\"14.00\">grad &#45;2.00</text>\n</g>\n<!-- 134912767310720&#45;&gt;134912771864368+ -->\n<g id=\"edge8\" class=\"edge\">\n<title>134912767310720&#45;&gt;134912771864368+</title>\n<path fill=\"none\" stroke=\"black\" d=\"M461.81,-85.62C471.6,-83.74 481.16,-81.91 489.75,-80.26\"/>\n<polygon fill=\"black\" stroke=\"black\" points=\"490.54,-83.67 499.7,-78.35 489.22,-76.8 490.54,-83.67\"/>\n</g>\n<!-- 134912767310720*&#45;&gt;134912767310720 -->\n<g id=\"edge3\" class=\"edge\">\n<title>134912767310720*&#45;&gt;134912767310720</title>\n<path fill=\"none\" stroke=\"black\" d=\"M257.1,-101.5C265.16,-101.5 274.54,-101.5 284.44,-101.5\"/>\n<polygon fill=\"black\" stroke=\"black\" points=\"284.48,-105 294.48,-101.5 284.48,-98 284.48,-105\"/>\n</g>\n<!-- 134912767309712 -->\n<g id=\"node9\" class=\"node\">\n<title>134912767309712</title>\n<polygon fill=\"none\" stroke=\"black\" points=\"293,-28.5 293,-64.5 463,-64.5 463,-28.5 293,-28.5\"/>\n<text text-anchor=\"middle\" x=\"304.5\" y=\"-42.8\" font-family=\"Times,serif\" font-size=\"14.00\">c</text>\n<polyline fill=\"none\" stroke=\"black\" points=\"316,-28.5 316,-64.5 \"/>\n<text text-anchor=\"middle\" x=\"353\" y=\"-42.8\" font-family=\"Times,serif\" font-size=\"14.00\">data 10.00</text>\n<polyline fill=\"none\" stroke=\"black\" points=\"390,-28.5 390,-64.5 \"/>\n<text text-anchor=\"middle\" x=\"426.5\" y=\"-42.8\" font-family=\"Times,serif\" font-size=\"14.00\">grad &#45;2.00</text>\n</g>\n<!-- 134912767309712&#45;&gt;134912771864368+ -->\n<g id=\"edge9\" class=\"edge\">\n<title>134912767309712&#45;&gt;134912771864368+</title>\n<path fill=\"none\" stroke=\"black\" d=\"M463.08,-62.05C472.44,-63.78 481.55,-65.47 489.78,-66.99\"/>\n<polygon fill=\"black\" stroke=\"black\" points=\"489.21,-70.44 499.68,-68.82 490.48,-63.56 489.21,-70.44\"/>\n</g>\n<!-- 134912767305152 -->\n<g id=\"node10\" class=\"node\">\n<title>134912767305152</title>\n<polygon fill=\"none\" stroke=\"black\" points=\"0,-56.5 0,-92.5 167,-92.5 167,-56.5 0,-56.5\"/>\n<text text-anchor=\"middle\" x=\"11.5\" y=\"-70.8\" font-family=\"Times,serif\" font-size=\"14.00\">b</text>\n<polyline fill=\"none\" stroke=\"black\" points=\"23,-56.5 23,-92.5 \"/>\n<text text-anchor=\"middle\" x=\"58.5\" y=\"-70.8\" font-family=\"Times,serif\" font-size=\"14.00\">data &#45;3.00</text>\n<polyline fill=\"none\" stroke=\"black\" points=\"94,-56.5 94,-92.5 \"/>\n<text text-anchor=\"middle\" x=\"130.5\" y=\"-70.8\" font-family=\"Times,serif\" font-size=\"14.00\">grad &#45;4.00</text>\n</g>\n<!-- 134912767305152&#45;&gt;134912767310720* -->\n<g id=\"edge5\" class=\"edge\">\n<title>134912767305152&#45;&gt;134912767310720*</title>\n<path fill=\"none\" stroke=\"black\" d=\"M167.3,-89.97C176.61,-91.71 185.68,-93.41 193.88,-94.94\"/>\n<polygon fill=\"black\" stroke=\"black\" points=\"193.27,-98.38 203.75,-96.78 194.56,-91.5 193.27,-98.38\"/>\n</g>\n</g>\n</svg>\n",
            "text/plain": [
              "<graphviz.graphs.Digraph at 0x7ab3d3d7b670>"
            ]
          },
          "metadata": {},
          "execution_count": 57
        }
      ]
    },
    {
      "cell_type": "code",
      "source": [
        "from graphviz import Digraph\n",
        "\n",
        "def trace(root):\n",
        "  # builds a set of all nodes and edges in a graph\n",
        "  nodes, edges = set(), set()\n",
        "  def build(v):\n",
        "    if v not in nodes:\n",
        "      nodes.add(v)\n",
        "      for child in v._prev:\n",
        "        edges.add((child, v))\n",
        "        build(child)\n",
        "  build(root)\n",
        "  return nodes, edges\n",
        "\n",
        "def draw_dot(root):\n",
        "  dot = Digraph(format='svg', graph_attr={'rankdir': 'LR'}) # LR = left to right\n",
        "\n",
        "  nodes, edges = trace(root)\n",
        "  for n in nodes:\n",
        "    uid = str(id(n))\n",
        "    # for any value in the graph, create a rectangular ('record') node for it\n",
        "    dot.node(name = uid, label = \"{ %s | data %.2f  | grad %.2f }\" % (n.label, n.data, n.grad), shape='record')\n",
        "    if n._op:\n",
        "      # if this value is a result of some operation, create an op node for it\n",
        "      dot.node(name = uid + n._op, label = n._op)\n",
        "      # and connect this node to it\n",
        "      dot.edge(uid + n._op, uid)\n",
        "\n",
        "  for n1, n2 in edges:\n",
        "    # connect n1 to the op node of n2\n",
        "    dot.edge(str(id(n1)), str(id(n2)) + n2._op)\n",
        "\n",
        "  return dot"
      ],
      "metadata": {
        "id": "M_ZipHblFU7-"
      },
      "execution_count": 47,
      "outputs": []
    }
  ]
}