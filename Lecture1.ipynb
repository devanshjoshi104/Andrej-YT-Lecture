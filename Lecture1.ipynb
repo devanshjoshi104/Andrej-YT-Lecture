{
  "nbformat": 4,
  "nbformat_minor": 0,
  "metadata": {
    "colab": {
      "provenance": [],
      "authorship_tag": "ABX9TyPmYFPmeMQOCV9hwp7HLCVl",
      "include_colab_link": true
    },
    "kernelspec": {
      "name": "python3",
      "display_name": "Python 3"
    },
    "language_info": {
      "name": "python"
    }
  },
  "cells": [
    {
      "cell_type": "markdown",
      "metadata": {
        "id": "view-in-github",
        "colab_type": "text"
      },
      "source": [
        "<a href=\"https://colab.research.google.com/github/devanshjoshi104/Andrej-YT-Lecture/blob/main/Lecture1.ipynb\" target=\"_parent\"><img src=\"https://colab.research.google.com/assets/colab-badge.svg\" alt=\"Open In Colab\"/></a>"
      ]
    },
    {
      "cell_type": "code",
      "execution_count": 3,
      "metadata": {
        "id": "2lHjXUq4_Q7M"
      },
      "outputs": [],
      "source": [
        "import math\n",
        "import random\n",
        "import numpy as np\n",
        "import matplotlib.pyplot as plt\n",
        "%matplotlib inline"
      ]
    },
    {
      "cell_type": "code",
      "source": [
        "class Value:\n",
        "  def __init__(self, data, _children = (), _op = '', label=''):\n",
        "    self.data = data\n",
        "    self._prev = set(_children)\n",
        "    self._op = _op\n",
        "    self.label = label\n",
        "    self.grad = 0.0\n",
        "    self._backward = lambda: None\n",
        "\n",
        "  def __repr__(self):\n",
        "    return f\"Value(data = {self.data})\"\n",
        "\n",
        "  def __add__(self, other):\n",
        "    other = other if isinstance(other, Value) else Value(other)\n",
        "    out = Value(self.data + other.data, (self, other), '+')\n",
        "\n",
        "    def _backward():\n",
        "      self.grad += 1.0 * out.grad\n",
        "      other.grad += 1.0 * out.grad\n",
        "    out._backward = _backward\n",
        "\n",
        "    return out\n",
        "\n",
        "  def __mul__(self, other):\n",
        "    other = other if isinstance(other, Value) else Value(other)\n",
        "    out = Value(self.data * other.data, (self, other), '*')\n",
        "\n",
        "    def _backward():\n",
        "      self.grad += other.data * out.grad\n",
        "      other.grad += self.data * out.grad\n",
        "    out._backward = _backward\n",
        "\n",
        "    return out\n",
        "\n",
        "  def tanh(self):\n",
        "    x = self.data\n",
        "    t = (math.exp(2*x) - 1)/(math.exp(2*x) + 1)\n",
        "    out = Value(t, (self, ), 'tanh')\n",
        "\n",
        "    def _backward():\n",
        "      self.grad += (1 - t**2) * out.grad\n",
        "    out._backward = _backward\n",
        "\n",
        "    return out\n",
        "\n",
        "  def exp(self):\n",
        "    x = self.data\n",
        "    out = Value(math.exp(x), (self, ), 'exp')\n",
        "\n",
        "    def _backward():\n",
        "      self.grad += out.data * out.grad\n",
        "    out._backward = _backward\n",
        "\n",
        "    return out\n",
        "\n",
        "\n",
        "  def __rmul__(self, other):\n",
        "    return self * other\n",
        "\n",
        "  def __truediv__(self, other):\n",
        "    return self * other**-1\n",
        "\n",
        "  def __neg__(self):\n",
        "    return self * -1\n",
        "\n",
        "  def __sub__(self, other):\n",
        "    return self + (-other)\n",
        "\n",
        "  def __radd__(self, other):\n",
        "    return self + other\n",
        "\n",
        "  def __pow__(self, other):\n",
        "    assert isinstance(other, (int, float)), \"only supporting int/float powers for now\"\n",
        "    out = Value(self.data**other, (self,), f'**{other}')\n",
        "    def _backward():\n",
        "        self.grad += other * (self.data ** (other - 1)) * out.grad\n",
        "    out._backward = _backward\n",
        "    return out\n",
        "\n",
        "  def backward(self):\n",
        "\n",
        "    topo_set = []\n",
        "    visited = set()\n",
        "    def build_topological_set(v):\n",
        "      if v not in visited:\n",
        "        visited.add(v)\n",
        "        for child in v._prev:\n",
        "          build_topological_set(child)\n",
        "        topo_set.append(v)\n",
        "    build_topological_set(self)\n",
        "\n",
        "    self.grad = 1.0\n",
        "    for node in reversed(topo_set):\n",
        "      node._backward()"
      ],
      "metadata": {
        "id": "wWZheI9LDPet"
      },
      "execution_count": 34,
      "outputs": []
    },
    {
      "cell_type": "code",
      "source": [
        "a = Value(2.0, label='a')\n",
        "b = Value(-3.0, label='b')\n",
        "c = Value(10.0, label='c')\n",
        "e = a*b; e.label = 'e'\n",
        "d = e + c; d.label = 'd'\n",
        "f = Value(-2.0, label='f')\n",
        "L = d * f; L.label = 'L'\n",
        "L.grad = 1.0\n",
        "L.backward()\n",
        "draw_dot(L)"
      ],
      "metadata": {
        "colab": {
          "base_uri": "https://localhost:8080/",
          "height": 212
        },
        "id": "Ru3r8h6mDnyw",
        "outputId": "4f7db61f-0d2c-4551-9da5-b021b874243a"
      },
      "execution_count": 38,
      "outputs": [
        {
          "output_type": "execute_result",
          "data": {
            "image/svg+xml": "<?xml version=\"1.0\" encoding=\"UTF-8\" standalone=\"no\"?>\n<!DOCTYPE svg PUBLIC \"-//W3C//DTD SVG 1.1//EN\"\n \"http://www.w3.org/Graphics/SVG/1.1/DTD/svg11.dtd\">\n<!-- Generated by graphviz version 2.43.0 (0)\n -->\n<!-- Title: %3 Pages: 1 -->\n<svg width=\"1043pt\" height=\"128pt\"\n viewBox=\"0.00 0.00 1043.00 128.00\" xmlns=\"http://www.w3.org/2000/svg\" xmlns:xlink=\"http://www.w3.org/1999/xlink\">\n<g id=\"graph0\" class=\"graph\" transform=\"scale(1 1) rotate(0) translate(4 124)\">\n<title>%3</title>\n<polygon fill=\"white\" stroke=\"transparent\" points=\"-4,4 -4,-124 1039,-124 1039,4 -4,4\"/>\n<!-- 134912764983856 -->\n<g id=\"node1\" class=\"node\">\n<title>134912764983856</title>\n<polygon fill=\"none\" stroke=\"black\" points=\"585,-27.5 585,-63.5 746,-63.5 746,-27.5 585,-27.5\"/>\n<text text-anchor=\"middle\" x=\"596.5\" y=\"-41.8\" font-family=\"Times,serif\" font-size=\"14.00\">d</text>\n<polyline fill=\"none\" stroke=\"black\" points=\"608,-27.5 608,-63.5 \"/>\n<text text-anchor=\"middle\" x=\"641.5\" y=\"-41.8\" font-family=\"Times,serif\" font-size=\"14.00\">data 4.00</text>\n<polyline fill=\"none\" stroke=\"black\" points=\"675,-27.5 675,-63.5 \"/>\n<text text-anchor=\"middle\" x=\"710.5\" y=\"-41.8\" font-family=\"Times,serif\" font-size=\"14.00\">data &#45;2.00</text>\n</g>\n<!-- 134912764977424* -->\n<g id=\"node8\" class=\"node\">\n<title>134912764977424*</title>\n<ellipse fill=\"none\" stroke=\"black\" cx=\"809\" cy=\"-72.5\" rx=\"27\" ry=\"18\"/>\n<text text-anchor=\"middle\" x=\"809\" y=\"-68.8\" font-family=\"Times,serif\" font-size=\"14.00\">*</text>\n</g>\n<!-- 134912764983856&#45;&gt;134912764977424* -->\n<g id=\"edge9\" class=\"edge\">\n<title>134912764983856&#45;&gt;134912764977424*</title>\n<path fill=\"none\" stroke=\"black\" d=\"M746.35,-60.74C755.6,-62.5 764.65,-64.23 772.83,-65.79\"/>\n<polygon fill=\"black\" stroke=\"black\" points=\"772.22,-69.24 782.69,-67.67 773.53,-62.36 772.22,-69.24\"/>\n</g>\n<!-- 134912764983856+ -->\n<g id=\"node2\" class=\"node\">\n<title>134912764983856+</title>\n<ellipse fill=\"none\" stroke=\"black\" cx=\"522\" cy=\"-45.5\" rx=\"27\" ry=\"18\"/>\n<text text-anchor=\"middle\" x=\"522\" y=\"-41.8\" font-family=\"Times,serif\" font-size=\"14.00\">+</text>\n</g>\n<!-- 134912764983856+&#45;&gt;134912764983856 -->\n<g id=\"edge1\" class=\"edge\">\n<title>134912764983856+&#45;&gt;134912764983856</title>\n<path fill=\"none\" stroke=\"black\" d=\"M549.28,-45.5C556.85,-45.5 565.57,-45.5 574.74,-45.5\"/>\n<polygon fill=\"black\" stroke=\"black\" points=\"574.85,-49 584.85,-45.5 574.85,-42 574.85,-49\"/>\n</g>\n<!-- 134912764973728 -->\n<g id=\"node3\" class=\"node\">\n<title>134912764973728</title>\n<polygon fill=\"none\" stroke=\"black\" points=\"0,-83.5 0,-119.5 165,-119.5 165,-83.5 0,-83.5\"/>\n<text text-anchor=\"middle\" x=\"11.5\" y=\"-97.8\" font-family=\"Times,serif\" font-size=\"14.00\">b</text>\n<polyline fill=\"none\" stroke=\"black\" points=\"23,-83.5 23,-119.5 \"/>\n<text text-anchor=\"middle\" x=\"58.5\" y=\"-97.8\" font-family=\"Times,serif\" font-size=\"14.00\">data &#45;3.00</text>\n<polyline fill=\"none\" stroke=\"black\" points=\"94,-83.5 94,-119.5 \"/>\n<text text-anchor=\"middle\" x=\"129.5\" y=\"-97.8\" font-family=\"Times,serif\" font-size=\"14.00\">data &#45;4.00</text>\n</g>\n<!-- 134912764979392* -->\n<g id=\"node5\" class=\"node\">\n<title>134912764979392*</title>\n<ellipse fill=\"none\" stroke=\"black\" cx=\"228\" cy=\"-73.5\" rx=\"27\" ry=\"18\"/>\n<text text-anchor=\"middle\" x=\"228\" y=\"-69.8\" font-family=\"Times,serif\" font-size=\"14.00\">*</text>\n</g>\n<!-- 134912764973728&#45;&gt;134912764979392* -->\n<g id=\"edge5\" class=\"edge\">\n<title>134912764973728&#45;&gt;134912764979392*</title>\n<path fill=\"none\" stroke=\"black\" d=\"M165.31,-85.54C174.6,-83.72 183.67,-81.96 191.86,-80.36\"/>\n<polygon fill=\"black\" stroke=\"black\" points=\"192.58,-83.78 201.73,-78.43 191.24,-76.91 192.58,-83.78\"/>\n</g>\n<!-- 134912764979392 -->\n<g id=\"node4\" class=\"node\">\n<title>134912764979392</title>\n<polygon fill=\"none\" stroke=\"black\" points=\"292.5,-55.5 292.5,-91.5 457.5,-91.5 457.5,-55.5 292.5,-55.5\"/>\n<text text-anchor=\"middle\" x=\"304\" y=\"-69.8\" font-family=\"Times,serif\" font-size=\"14.00\">e</text>\n<polyline fill=\"none\" stroke=\"black\" points=\"315.5,-55.5 315.5,-91.5 \"/>\n<text text-anchor=\"middle\" x=\"351\" y=\"-69.8\" font-family=\"Times,serif\" font-size=\"14.00\">data &#45;6.00</text>\n<polyline fill=\"none\" stroke=\"black\" points=\"386.5,-55.5 386.5,-91.5 \"/>\n<text text-anchor=\"middle\" x=\"422\" y=\"-69.8\" font-family=\"Times,serif\" font-size=\"14.00\">data &#45;2.00</text>\n</g>\n<!-- 134912764979392&#45;&gt;134912764983856+ -->\n<g id=\"edge4\" class=\"edge\">\n<title>134912764979392&#45;&gt;134912764983856+</title>\n<path fill=\"none\" stroke=\"black\" d=\"M457.82,-57.7C467.69,-55.79 477.32,-53.94 485.97,-52.26\"/>\n<polygon fill=\"black\" stroke=\"black\" points=\"486.83,-55.66 495.98,-50.33 485.5,-48.79 486.83,-55.66\"/>\n</g>\n<!-- 134912764979392*&#45;&gt;134912764979392 -->\n<g id=\"edge2\" class=\"edge\">\n<title>134912764979392*&#45;&gt;134912764979392</title>\n<path fill=\"none\" stroke=\"black\" d=\"M255.26,-73.5C263.19,-73.5 272.4,-73.5 282.1,-73.5\"/>\n<polygon fill=\"black\" stroke=\"black\" points=\"282.36,-77 292.36,-73.5 282.36,-70 282.36,-77\"/>\n</g>\n<!-- 134912764971232 -->\n<g id=\"node6\" class=\"node\">\n<title>134912764971232</title>\n<polygon fill=\"none\" stroke=\"black\" points=\"291,-0.5 291,-36.5 459,-36.5 459,-0.5 291,-0.5\"/>\n<text text-anchor=\"middle\" x=\"302.5\" y=\"-14.8\" font-family=\"Times,serif\" font-size=\"14.00\">c</text>\n<polyline fill=\"none\" stroke=\"black\" points=\"314,-0.5 314,-36.5 \"/>\n<text text-anchor=\"middle\" x=\"351\" y=\"-14.8\" font-family=\"Times,serif\" font-size=\"14.00\">data 10.00</text>\n<polyline fill=\"none\" stroke=\"black\" points=\"388,-0.5 388,-36.5 \"/>\n<text text-anchor=\"middle\" x=\"423.5\" y=\"-14.8\" font-family=\"Times,serif\" font-size=\"14.00\">data &#45;2.00</text>\n</g>\n<!-- 134912764971232&#45;&gt;134912764983856+ -->\n<g id=\"edge8\" class=\"edge\">\n<title>134912764971232&#45;&gt;134912764983856+</title>\n<path fill=\"none\" stroke=\"black\" d=\"M459.09,-33.97C468.43,-35.71 477.53,-37.41 485.76,-38.94\"/>\n<polygon fill=\"black\" stroke=\"black\" points=\"485.19,-42.39 495.66,-40.78 486.47,-35.51 485.19,-42.39\"/>\n</g>\n<!-- 134912764977424 -->\n<g id=\"node7\" class=\"node\">\n<title>134912764977424</title>\n<polygon fill=\"none\" stroke=\"black\" points=\"872,-54.5 872,-90.5 1035,-90.5 1035,-54.5 872,-54.5\"/>\n<text text-anchor=\"middle\" x=\"884.5\" y=\"-68.8\" font-family=\"Times,serif\" font-size=\"14.00\">L</text>\n<polyline fill=\"none\" stroke=\"black\" points=\"897,-54.5 897,-90.5 \"/>\n<text text-anchor=\"middle\" x=\"932.5\" y=\"-68.8\" font-family=\"Times,serif\" font-size=\"14.00\">data &#45;8.00</text>\n<polyline fill=\"none\" stroke=\"black\" points=\"968,-54.5 968,-90.5 \"/>\n<text text-anchor=\"middle\" x=\"1001.5\" y=\"-68.8\" font-family=\"Times,serif\" font-size=\"14.00\">data 1.00</text>\n</g>\n<!-- 134912764977424*&#45;&gt;134912764977424 -->\n<g id=\"edge3\" class=\"edge\">\n<title>134912764977424*&#45;&gt;134912764977424</title>\n<path fill=\"none\" stroke=\"black\" d=\"M836.14,-72.5C843.75,-72.5 852.53,-72.5 861.78,-72.5\"/>\n<polygon fill=\"black\" stroke=\"black\" points=\"861.97,-76 871.97,-72.5 861.97,-69 861.97,-76\"/>\n</g>\n<!-- 134912764978480 -->\n<g id=\"node9\" class=\"node\">\n<title>134912764978480</title>\n<polygon fill=\"none\" stroke=\"black\" points=\"4,-28.5 4,-64.5 161,-64.5 161,-28.5 4,-28.5\"/>\n<text text-anchor=\"middle\" x=\"15.5\" y=\"-42.8\" font-family=\"Times,serif\" font-size=\"14.00\">a</text>\n<polyline fill=\"none\" stroke=\"black\" points=\"27,-28.5 27,-64.5 \"/>\n<text text-anchor=\"middle\" x=\"60.5\" y=\"-42.8\" font-family=\"Times,serif\" font-size=\"14.00\">data 2.00</text>\n<polyline fill=\"none\" stroke=\"black\" points=\"94,-28.5 94,-64.5 \"/>\n<text text-anchor=\"middle\" x=\"127.5\" y=\"-42.8\" font-family=\"Times,serif\" font-size=\"14.00\">data 6.00</text>\n</g>\n<!-- 134912764978480&#45;&gt;134912764979392* -->\n<g id=\"edge6\" class=\"edge\">\n<title>134912764978480&#45;&gt;134912764979392*</title>\n<path fill=\"none\" stroke=\"black\" d=\"M161.13,-61.11C171.78,-63.11 182.26,-65.08 191.62,-66.84\"/>\n<polygon fill=\"black\" stroke=\"black\" points=\"191.18,-70.32 201.65,-68.73 192.47,-63.44 191.18,-70.32\"/>\n</g>\n<!-- 134912764978000 -->\n<g id=\"node10\" class=\"node\">\n<title>134912764978000</title>\n<polygon fill=\"none\" stroke=\"black\" points=\"586,-82.5 586,-118.5 745,-118.5 745,-82.5 586,-82.5\"/>\n<text text-anchor=\"middle\" x=\"596.5\" y=\"-96.8\" font-family=\"Times,serif\" font-size=\"14.00\">f</text>\n<polyline fill=\"none\" stroke=\"black\" points=\"607,-82.5 607,-118.5 \"/>\n<text text-anchor=\"middle\" x=\"642.5\" y=\"-96.8\" font-family=\"Times,serif\" font-size=\"14.00\">data &#45;2.00</text>\n<polyline fill=\"none\" stroke=\"black\" points=\"678,-82.5 678,-118.5 \"/>\n<text text-anchor=\"middle\" x=\"711.5\" y=\"-96.8\" font-family=\"Times,serif\" font-size=\"14.00\">data 4.00</text>\n</g>\n<!-- 134912764978000&#45;&gt;134912764977424* -->\n<g id=\"edge7\" class=\"edge\">\n<title>134912764978000&#45;&gt;134912764977424*</title>\n<path fill=\"none\" stroke=\"black\" d=\"M745.11,-84.94C754.88,-83.01 764.45,-81.12 773.05,-79.42\"/>\n<polygon fill=\"black\" stroke=\"black\" points=\"773.89,-82.82 783.02,-77.44 772.53,-75.95 773.89,-82.82\"/>\n</g>\n</g>\n</svg>\n",
            "text/plain": [
              "<graphviz.graphs.Digraph at 0x7ab3d36ebd60>"
            ]
          },
          "metadata": {},
          "execution_count": 38
        }
      ]
    },
    {
      "cell_type": "code",
      "source": [
        "from graphviz import Digraph\n",
        "\n",
        "def trace(root):\n",
        "  # builds a set of all nodes and edges in a graph\n",
        "  nodes, edges = set(), set()\n",
        "  def build(v):\n",
        "    if v not in nodes:\n",
        "      nodes.add(v)\n",
        "      for child in v._prev:\n",
        "        edges.add((child, v))\n",
        "        build(child)\n",
        "  build(root)\n",
        "  return nodes, edges\n",
        "\n",
        "def draw_dot(root):\n",
        "  dot = Digraph(format='svg', graph_attr={'rankdir': 'LR'}) # LR = left to right\n",
        "\n",
        "  nodes, edges = trace(root)\n",
        "  for n in nodes:\n",
        "    uid = str(id(n))\n",
        "    # for any value in the graph, create a rectangular ('record') node for it\n",
        "    dot.node(name = uid, label = \"{ %s | data %.2f  | data %.2f }\" % (n.label, n.data, n.grad), shape='record')\n",
        "    if n._op:\n",
        "      # if this value is a result of some operation, create an op node for it\n",
        "      dot.node(name = uid + n._op, label = n._op)\n",
        "      # and connect this node to it\n",
        "      dot.edge(uid + n._op, uid)\n",
        "\n",
        "  for n1, n2 in edges:\n",
        "    # connect n1 to the op node of n2\n",
        "    dot.edge(str(id(n1)), str(id(n2)) + n2._op)\n",
        "\n",
        "  return dot"
      ],
      "metadata": {
        "id": "M_ZipHblFU7-"
      },
      "execution_count": 32,
      "outputs": []
    }
  ]
}